{
 "cells": [
  {
   "cell_type": "code",
   "execution_count": 1,
   "metadata": {
    "ExecuteTime": {
     "end_time": "2020-12-17T17:06:42.029815Z",
     "start_time": "2020-12-17T17:06:35.398273Z"
    }
   },
   "outputs": [],
   "source": [
    "import io \n",
    "import json \n",
    "import cv2 \n",
    "import numpy as np \n",
    "import requests \n",
    "import matplotlib.pyplot as plt  "
   ]
  },
  {
   "cell_type": "code",
   "execution_count": 2,
   "metadata": {
    "ExecuteTime": {
     "end_time": "2020-12-17T17:06:48.927756Z",
     "start_time": "2020-12-17T17:06:48.919779Z"
    }
   },
   "outputs": [],
   "source": [
    "import re"
   ]
  },
  {
   "cell_type": "code",
   "execution_count": 3,
   "metadata": {
    "ExecuteTime": {
     "end_time": "2020-12-17T17:08:57.295702Z",
     "start_time": "2020-12-17T17:08:41.057982Z"
    }
   },
   "outputs": [],
   "source": [
    "from nltk.tokenize import TweetTokenizer\n",
    "import string"
   ]
  },
  {
   "cell_type": "code",
   "execution_count": 4,
   "metadata": {
    "ExecuteTime": {
     "end_time": "2020-12-17T17:09:07.867957Z",
     "start_time": "2020-12-17T17:09:07.850970Z"
    }
   },
   "outputs": [],
   "source": [
    "def image_to_text(key):\n",
    "    print(\"Enter the exact location of file\")\n",
    "    file_location=input()\n",
    "    img = cv2.imread(file_location)\n",
    "    height, width, _ = img.shape\n",
    "    url_api = \"https://api.ocr.space/parse/image\"\n",
    "    _, compressedimage = cv2.imencode(\".jpg\", img, [1, 90])\n",
    "    file_bytes = io.BytesIO(compressedimage)\n",
    "    print(\"Enter the file name\")\n",
    "    file_name=input()\n",
    "\n",
    "    result = requests.post(url_api,\n",
    "              files = {file_name: file_bytes},\n",
    "              data = {\"apikey\": key, #you have to register on http://ocr.space/OCRAPI to get free unique api key\n",
    "                      \"language\": \"eng\"})\n",
    "    result = result.content.decode()\n",
    "    result = json.loads(result)\n",
    "    parsed_results = result.get(\"ParsedResults\")[0]\n",
    "    text_detected = parsed_results.get(\"ParsedText\")\n",
    "    \n",
    "    #text preprocessing\n",
    "    \n",
    "    pattern=r'[^a-zA-Z0-9\\s]' #if not remove_digits else r'[^a-zA-Z\\s]'\n",
    "    text=re.sub(pattern,'',text_detected)\n",
    "\n",
    "    text=re.sub('\\r','',text)\n",
    "    processed_text=text.replace('\\\\n', '\\n').replace('\\\\t', '')\n",
    "    tokenizer=TweetTokenizer(preserve_case=False,strip_handles=True,reduce_len=True)\n",
    "    tweet_tokens=tokenizer.tokenize(processed_text)\n",
    "    word_clean=[]\n",
    "    for words in tweet_tokens:\n",
    "        if words not in string.punctuation:\n",
    "            words=words.lower()\n",
    "            word_clean.append(words)\n",
    "            #temp=set(word_clean)\n",
    "    return word_clean"
   ]
  },
  {
   "cell_type": "code",
   "execution_count": 8,
   "metadata": {
    "ExecuteTime": {
     "end_time": "2020-12-17T17:15:28.005390Z",
     "start_time": "2020-12-17T17:15:04.822833Z"
    }
   },
   "outputs": [
    {
     "name": "stdout",
     "output_type": "stream",
     "text": [
      "Enter the exact location of file\n",
      "C:/Users/Documents/Downloads/Inspirational-quote-61.jpg\n",
      "Enter the file name\n",
      "Inspirational-quote-61.jpg\n"
     ]
    },
    {
     "data": {
      "text/plain": [
       "['dont',\n",
       " 'judge',\n",
       " 'me',\n",
       " 'by',\n",
       " 'my',\n",
       " 'past',\n",
       " 'i',\n",
       " 'dont',\n",
       " 'live',\n",
       " 'there',\n",
       " 'anymore',\n",
       " 'everyday',\n",
       " 'power']"
      ]
     },
     "execution_count": 8,
     "metadata": {},
     "output_type": "execute_result"
    }
   ],
   "source": [
    "image_to_text(\"d941b158c088957\")"
   ]
  }
 ],
 "metadata": {
  "kernelspec": {
   "display_name": "Python 3",
   "language": "python",
   "name": "python3"
  },
  "language_info": {
   "codemirror_mode": {
    "name": "ipython",
    "version": 3
   },
   "file_extension": ".py",
   "mimetype": "text/x-python",
   "name": "python",
   "nbconvert_exporter": "python",
   "pygments_lexer": "ipython3",
   "version": "3.8.5"
  },
  "toc": {
   "base_numbering": 1,
   "nav_menu": {},
   "number_sections": true,
   "sideBar": true,
   "skip_h1_title": false,
   "title_cell": "Table of Contents",
   "title_sidebar": "Contents",
   "toc_cell": false,
   "toc_position": {},
   "toc_section_display": true,
   "toc_window_display": false
  },
  "varInspector": {
   "cols": {
    "lenName": 16,
    "lenType": 16,
    "lenVar": 40
   },
   "kernels_config": {
    "python": {
     "delete_cmd_postfix": "",
     "delete_cmd_prefix": "del ",
     "library": "var_list.py",
     "varRefreshCmd": "print(var_dic_list())"
    },
    "r": {
     "delete_cmd_postfix": ") ",
     "delete_cmd_prefix": "rm(",
     "library": "var_list.r",
     "varRefreshCmd": "cat(var_dic_list()) "
    }
   },
   "types_to_exclude": [
    "module",
    "function",
    "builtin_function_or_method",
    "instance",
    "_Feature"
   ],
   "window_display": false
  }
 },
 "nbformat": 4,
 "nbformat_minor": 4
}
